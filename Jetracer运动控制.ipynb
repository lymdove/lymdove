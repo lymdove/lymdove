{
 "cells": [
  {
   "cell_type": "code",
   "execution_count": 8,
   "metadata": {},
   "outputs": [],
   "source": [
    "from jetbot import Robot\n",
    "from Adafruit_MotorHAT.Adafruit_PWM_Servo_Driver import PWM\n",
    "import traitlets\n",
    "from traitlets.config.configurable import SingletonConfigurable\n",
    "from traitlets.config.configurable import Configurable\n",
    "\n",
    "robot = Robot()\n",
    "\n",
    "class Jetracer(Configurable):\n",
    "    \n",
    "    turning = traitlets.Float()\n",
    "    speed = traitlets.Float()\n",
    "    \n",
    "    def __init__(self, *args, **kwargs):\n",
    "        super(Jetracer, self).__init__(*args, **kwargs)\n",
    "        self.pwm = PWM(0x60, debug=False, i2c=None, i2c_bus=1)\n",
    "        self.pwm.setPWMFreq(50)\n",
    "        self.pwm.setPWM(14, 0, int((90 * (2000 / 180) + 501) * 4096 / 20000))\n",
    "    \n",
    "    @traitlets.observe('turning')\n",
    "    def _observe_turning(self, change):\n",
    "        self.pwm.setPWM(14, 0, int((90*( change['new'] + 1) * (2000 / 180) + 501) * 4096 / 20000))\n",
    "    \n",
    "    @traitlets.observe('speed')\n",
    "    def _observe_speed(self, change):\n",
    "        robot.left_motor.value = -change['new']\n",
    "        robot.right_motor.value = -change['new']\n",
    "    \n",
    "    def stop(self):\n",
    "        robot.stop();"
   ]
  },
  {
   "cell_type": "code",
   "execution_count": 9,
   "metadata": {},
   "outputs": [],
   "source": [
    "jetracer = Jetracer()"
   ]
  },
  {
   "cell_type": "code",
   "execution_count": 10,
   "metadata": {},
   "outputs": [],
   "source": [
    "jetracer.turning = 0.2\n",
    "jetracer.speed = 0.3"
   ]
  },
  {
   "cell_type": "code",
   "execution_count": 11,
   "metadata": {},
   "outputs": [],
   "source": [
    "jetracer.turning = -0.2\n",
    "jetracer.speed = 0.3"
   ]
  },
  {
   "cell_type": "code",
   "execution_count": 12,
   "metadata": {},
   "outputs": [],
   "source": [
    "jetracer.turning = 0.2\n",
    "jetracer.speed = -0.3"
   ]
  },
  {
   "cell_type": "code",
   "execution_count": 13,
   "metadata": {},
   "outputs": [],
   "source": [
    "jetracer.turning = -0.2\n",
    "jetracer.speed = -0.3"
   ]
  },
  {
   "cell_type": "code",
   "execution_count": 14,
   "metadata": {},
   "outputs": [],
   "source": [
    "jetracer.stop()"
   ]
  },
  {
   "cell_type": "code",
   "execution_count": 15,
   "metadata": {},
   "outputs": [
    {
     "data": {
      "application/vnd.jupyter.widget-view+json": {
       "model_id": "6c93dcda1e34472eacb0608a976ebb08",
       "version_major": 2,
       "version_minor": 0
      },
      "text/plain": [
       "Controller()"
      ]
     },
     "metadata": {},
     "output_type": "display_data"
    }
   ],
   "source": [
    "import ipywidgets.widgets as widgets\n",
    "\n",
    "controller = widgets.Controller(index=0)  # replace with index of your controller\n",
    "\n",
    "display(controller)"
   ]
  },
  {
   "cell_type": "code",
   "execution_count": 16,
   "metadata": {},
   "outputs": [],
   "source": [
    "turning_link = traitlets.dlink((controller.axes[0], 'value'), (jetracer, 'turning'), transform=lambda x: -x)\n",
    "speed_link = traitlets.dlink((controller.axes[1], 'value'), (jetracer, 'speed'), transform=lambda x: -x)"
   ]
  },
  {
   "cell_type": "code",
   "execution_count": null,
   "metadata": {},
   "outputs": [],
   "source": []
  }
 ],
 "metadata": {
  "kernelspec": {
   "display_name": "Python 3",
   "language": "python",
   "name": "python3"
  },
  "language_info": {
   "codemirror_mode": {
    "name": "ipython",
    "version": 3
   },
   "file_extension": ".py",
   "mimetype": "text/x-python",
   "name": "python",
   "nbconvert_exporter": "python",
   "pygments_lexer": "ipython3",
   "version": "3.6.8"
  }
 },
 "nbformat": 4,
 "nbformat_minor": 4
}
